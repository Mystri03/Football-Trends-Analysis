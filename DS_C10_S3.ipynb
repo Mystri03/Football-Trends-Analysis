{
 "cells": [
  {
   "cell_type": "markdown",
   "id": "52951881-daad-4d53-a594-909ce641b382",
   "metadata": {},
   "source": [
    "# Football Data Analysis\r\n",
    "Football is a global, popular, and dynamic sport with many different factors that can influence the outcome of a match. By analyzing large datasets of football data, teams can gain a deeper understanding of factors that contribute to players' success, enabling coaches, scouts, and analysts to make informed decisions.\r\n",
    "\r\n",
    "Football data analysis is the process of collecting, cleaning, and analyzing data to extract meaningful insights. The valuable insights extracted from this analysis can be used to improve player performance, team tactics, fan engagement, and overall decision-making."
   ]
  },
  {
   "cell_type": "markdown",
   "id": "ffdd2d35-9f91-44dd-a034-4b96485d3627",
   "metadata": {},
   "source": [
    "# Sprint 3\n",
    "- Performance Analysis: Performing descriptive analysis using various data analysis and visualization techniques, calculating probabilities, finding solutions to business questions related to data sampling, central limit theorem and normal distribution.\n",
    "- Writing interpretation for each analysis individually."
   ]
  },
  {
   "cell_type": "code",
   "execution_count": 11,
   "id": "76c66992-3349-4427-94b3-f0ec12e9e6f9",
   "metadata": {},
   "outputs": [
    {
     "data": {
      "text/html": [
       "<div>\n",
       "<style scoped>\n",
       "    .dataframe tbody tr th:only-of-type {\n",
       "        vertical-align: middle;\n",
       "    }\n",
       "\n",
       "    .dataframe tbody tr th {\n",
       "        vertical-align: top;\n",
       "    }\n",
       "\n",
       "    .dataframe thead th {\n",
       "        text-align: right;\n",
       "    }\n",
       "</style>\n",
       "<table border=\"1\" class=\"dataframe\">\n",
       "  <thead>\n",
       "    <tr style=\"text-align: right;\">\n",
       "      <th></th>\n",
       "      <th>appearance_id</th>\n",
       "      <th>game_id</th>\n",
       "      <th>player_id</th>\n",
       "      <th>date_x</th>\n",
       "      <th>player_name_x</th>\n",
       "      <th>competition_id_x</th>\n",
       "      <th>yellow_cards</th>\n",
       "      <th>red_cards</th>\n",
       "      <th>goals</th>\n",
       "      <th>assists</th>\n",
       "      <th>...</th>\n",
       "      <th>country_of_birth</th>\n",
       "      <th>date_of_birth</th>\n",
       "      <th>sub_position</th>\n",
       "      <th>position_y</th>\n",
       "      <th>foot</th>\n",
       "      <th>height_in_cm</th>\n",
       "      <th>market_value_in_eur</th>\n",
       "      <th>highest_market_value_in_eur</th>\n",
       "      <th>contract_expiration_date</th>\n",
       "      <th>agent_name</th>\n",
       "    </tr>\n",
       "  </thead>\n",
       "  <tbody>\n",
       "    <tr>\n",
       "      <th>0</th>\n",
       "      <td>2222536_1321</td>\n",
       "      <td>2222536.0</td>\n",
       "      <td>1321</td>\n",
       "      <td>2012-08-26 00:00:00</td>\n",
       "      <td>Jermaine Jones</td>\n",
       "      <td>L1</td>\n",
       "      <td>1.0</td>\n",
       "      <td>0.0</td>\n",
       "      <td>0.0</td>\n",
       "      <td>1.0</td>\n",
       "      <td>...</td>\n",
       "      <td>Germany</td>\n",
       "      <td>1981-11-03</td>\n",
       "      <td>Defensive Midfield</td>\n",
       "      <td>Midfield</td>\n",
       "      <td>both</td>\n",
       "      <td>184.0</td>\n",
       "      <td>1000000.0</td>\n",
       "      <td>8000000.0</td>\n",
       "      <td>2024-12-31</td>\n",
       "      <td>Wasserman</td>\n",
       "    </tr>\n",
       "    <tr>\n",
       "      <th>1</th>\n",
       "      <td>2231391_1321</td>\n",
       "      <td>2231391.0</td>\n",
       "      <td>1321</td>\n",
       "      <td>2012-09-01 00:00:00</td>\n",
       "      <td>Jermaine Jones</td>\n",
       "      <td>L1</td>\n",
       "      <td>0.0</td>\n",
       "      <td>0.0</td>\n",
       "      <td>1.0</td>\n",
       "      <td>0.0</td>\n",
       "      <td>...</td>\n",
       "      <td>Germany</td>\n",
       "      <td>1981-11-03</td>\n",
       "      <td>Defensive Midfield</td>\n",
       "      <td>Midfield</td>\n",
       "      <td>both</td>\n",
       "      <td>184.0</td>\n",
       "      <td>1000000.0</td>\n",
       "      <td>8000000.0</td>\n",
       "      <td>2024-12-31</td>\n",
       "      <td>Wasserman</td>\n",
       "    </tr>\n",
       "    <tr>\n",
       "      <th>2</th>\n",
       "      <td>2231391_1321</td>\n",
       "      <td>2231391.0</td>\n",
       "      <td>1321</td>\n",
       "      <td>2012-09-01 00:00:00</td>\n",
       "      <td>Jermaine Jones</td>\n",
       "      <td>L1</td>\n",
       "      <td>0.0</td>\n",
       "      <td>0.0</td>\n",
       "      <td>1.0</td>\n",
       "      <td>0.0</td>\n",
       "      <td>...</td>\n",
       "      <td>Germany</td>\n",
       "      <td>1981-11-03</td>\n",
       "      <td>Defensive Midfield</td>\n",
       "      <td>Midfield</td>\n",
       "      <td>both</td>\n",
       "      <td>184.0</td>\n",
       "      <td>1000000.0</td>\n",
       "      <td>8000000.0</td>\n",
       "      <td>2024-12-31</td>\n",
       "      <td>Wasserman</td>\n",
       "    </tr>\n",
       "    <tr>\n",
       "      <th>3</th>\n",
       "      <td>2231397_1321</td>\n",
       "      <td>2231397.0</td>\n",
       "      <td>1321</td>\n",
       "      <td>2012-09-28 00:00:00</td>\n",
       "      <td>Jermaine Jones</td>\n",
       "      <td>L1</td>\n",
       "      <td>1.0</td>\n",
       "      <td>0.0</td>\n",
       "      <td>0.0</td>\n",
       "      <td>0.0</td>\n",
       "      <td>...</td>\n",
       "      <td>Germany</td>\n",
       "      <td>1981-11-03</td>\n",
       "      <td>Defensive Midfield</td>\n",
       "      <td>Midfield</td>\n",
       "      <td>both</td>\n",
       "      <td>184.0</td>\n",
       "      <td>1000000.0</td>\n",
       "      <td>8000000.0</td>\n",
       "      <td>2024-12-31</td>\n",
       "      <td>Wasserman</td>\n",
       "    </tr>\n",
       "    <tr>\n",
       "      <th>4</th>\n",
       "      <td>2231397_1321</td>\n",
       "      <td>2231397.0</td>\n",
       "      <td>1321</td>\n",
       "      <td>2012-09-28 00:00:00</td>\n",
       "      <td>Jermaine Jones</td>\n",
       "      <td>L1</td>\n",
       "      <td>1.0</td>\n",
       "      <td>0.0</td>\n",
       "      <td>0.0</td>\n",
       "      <td>0.0</td>\n",
       "      <td>...</td>\n",
       "      <td>Germany</td>\n",
       "      <td>1981-11-03</td>\n",
       "      <td>Defensive Midfield</td>\n",
       "      <td>Midfield</td>\n",
       "      <td>both</td>\n",
       "      <td>184.0</td>\n",
       "      <td>1000000.0</td>\n",
       "      <td>8000000.0</td>\n",
       "      <td>2024-12-31</td>\n",
       "      <td>Wasserman</td>\n",
       "    </tr>\n",
       "  </tbody>\n",
       "</table>\n",
       "<p>5 rows × 55 columns</p>\n",
       "</div>"
      ],
      "text/plain": [
       "  appearance_id    game_id  player_id               date_x   player_name_x  \\\n",
       "0  2222536_1321  2222536.0       1321  2012-08-26 00:00:00  Jermaine Jones   \n",
       "1  2231391_1321  2231391.0       1321  2012-09-01 00:00:00  Jermaine Jones   \n",
       "2  2231391_1321  2231391.0       1321  2012-09-01 00:00:00  Jermaine Jones   \n",
       "3  2231397_1321  2231397.0       1321  2012-09-28 00:00:00  Jermaine Jones   \n",
       "4  2231397_1321  2231397.0       1321  2012-09-28 00:00:00  Jermaine Jones   \n",
       "\n",
       "  competition_id_x  yellow_cards  red_cards  goals  assists  ...  \\\n",
       "0               L1           1.0        0.0    0.0      1.0  ...   \n",
       "1               L1           0.0        0.0    1.0      0.0  ...   \n",
       "2               L1           0.0        0.0    1.0      0.0  ...   \n",
       "3               L1           1.0        0.0    0.0      0.0  ...   \n",
       "4               L1           1.0        0.0    0.0      0.0  ...   \n",
       "\n",
       "   country_of_birth date_of_birth        sub_position  position_y  foot  \\\n",
       "0           Germany    1981-11-03  Defensive Midfield    Midfield  both   \n",
       "1           Germany    1981-11-03  Defensive Midfield    Midfield  both   \n",
       "2           Germany    1981-11-03  Defensive Midfield    Midfield  both   \n",
       "3           Germany    1981-11-03  Defensive Midfield    Midfield  both   \n",
       "4           Germany    1981-11-03  Defensive Midfield    Midfield  both   \n",
       "\n",
       "  height_in_cm  market_value_in_eur  highest_market_value_in_eur  \\\n",
       "0        184.0            1000000.0                    8000000.0   \n",
       "1        184.0            1000000.0                    8000000.0   \n",
       "2        184.0            1000000.0                    8000000.0   \n",
       "3        184.0            1000000.0                    8000000.0   \n",
       "4        184.0            1000000.0                    8000000.0   \n",
       "\n",
       "  contract_expiration_date agent_name  \n",
       "0               2024-12-31  Wasserman  \n",
       "1               2024-12-31  Wasserman  \n",
       "2               2024-12-31  Wasserman  \n",
       "3               2024-12-31  Wasserman  \n",
       "4               2024-12-31  Wasserman  \n",
       "\n",
       "[5 rows x 55 columns]"
      ]
     },
     "execution_count": 11,
     "metadata": {},
     "output_type": "execute_result"
    }
   ],
   "source": [
    "import pandas as pd\n",
    "import warnings\n",
    "warnings.filterwarnings('ignore')\n",
    "\n",
    "data = pd.read_csv('football_data.csv')\n",
    "data.head()"
   ]
  },
  {
   "cell_type": "markdown",
   "id": "cc44d208-3f79-4f6d-95f7-3714776e6f48",
   "metadata": {},
   "source": [
    "--------------------------------------------------------------------------------------------------------------------------------------------------------\n",
    "# 1. Descriptive Analysis\n",
    "## What are the key summary statistics of goals scored per match?\n",
    "(mean, median, standard deviation)"
   ]
  },
  {
   "cell_type": "code",
   "execution_count": 3,
   "id": "23f671ab-aa21-4f43-9de6-8d75135b98a6",
   "metadata": {},
   "outputs": [],
   "source": [
    "# Calculate descriptive statistics for goals scored\n",
    "stats = data[['home_club_goals', 'away_club_goals']].describe()\n",
    "total_goals = data['home_club_goals'] + data['away_club_goals']\n",
    "combined_stats = total_goals.describe()"
   ]
  },
  {
   "cell_type": "code",
   "execution_count": 5,
   "id": "f35755a6-9a9e-4bf2-b4d5-43bd2240b359",
   "metadata": {},
   "outputs": [
    {
     "name": "stdout",
     "output_type": "stream",
     "text": [
      "Descriptive Statistics:\n",
      "count    4654.000000\n",
      "mean        2.784486\n",
      "std         1.698461\n",
      "min         0.000000\n",
      "25%         2.000000\n",
      "50%         2.000000\n",
      "75%         4.000000\n",
      "max        17.000000\n",
      "dtype: float64\n"
     ]
    }
   ],
   "source": [
    "print(\"Descriptive Statistics:\")\n",
    "print(combined_stats)"
   ]
  },
  {
   "cell_type": "markdown",
   "id": "0ce861c7-1fcf-4717-9daf-9a124692a745",
   "metadata": {},
   "source": [
    "### Interpretation:\n",
    "- The mean, median, and standard deviation highlight scoring trends across matches.\n",
    "- For example, a high mean indicates frequent scoring, while high variability might suggest unpredictable matches."
   ]
  },
  {
   "cell_type": "markdown",
   "id": "cebc32e9-b579-4acf-b8f7-d6dcd0042bb5",
   "metadata": {},
   "source": [
    "## What is the average playing time (in minutes) for players in the dataset?"
   ]
  },
  {
   "cell_type": "code",
   "execution_count": 18,
   "id": "ba640303-f2d6-448e-b7cf-0e14feeb057b",
   "metadata": {},
   "outputs": [
    {
     "name": "stdout",
     "output_type": "stream",
     "text": [
      "Average playing time for players: 74.57 minutes\n"
     ]
    }
   ],
   "source": [
    "# Calculate average playing time\n",
    "average_playing_time = data['minutes_played'].mean()\n",
    "print(f\"Average playing time for players: {average_playing_time:.2f} minutes\")"
   ]
  },
  {
   "cell_type": "markdown",
   "id": "dbd79518-e334-4adb-bd3a-bba5acb62c4b",
   "metadata": {},
   "source": [
    "### Intrpretation:\n",
    "- This metric helps identify how much time players spend on the field on average.\n",
    "- Teams can use this to understand player workloads and strategize rotations."
   ]
  },
  {
   "cell_type": "markdown",
   "id": "a6c0eb20-feac-4628-ba1b-883408e1e852",
   "metadata": {},
   "source": [
    "--------------------------------------------------------------------------------------------------------------------------------------------------------\n",
    "# 2. Conditional Probability\n",
    "## What is the probability that a player played more than 70 minutes in a game, given that they scored at least one goal?"
   ]
  },
  {
   "cell_type": "code",
   "execution_count": 14,
   "id": "3fcbb4b1-0f6d-4326-be1a-3f4197cf1667",
   "metadata": {},
   "outputs": [],
   "source": [
    "players_with_goals = data[data['goals'] > 0]   # Filter players who scored at least one goal\n",
    "p_goals = len(players_with_goals) / len(data)  # Calculate P(Goals > 0)\n",
    "\n",
    "# Filter players who scored at least one goal and played more than 70 minutes\n",
    "players_goals_and_minutes = players_with_goals[players_with_goals['minutes_played'] > 70]\n",
    "\n",
    "# Calculate P(Minutes Played > 70 and Goals > 0)\n",
    "p_minutes_and_goals = len(players_goals_and_minutes) / len(data)"
   ]
  },
  {
   "cell_type": "code",
   "execution_count": null,
   "id": "8da0bfe6-b635-4ebe-ba3a-7d6d8f96f41a",
   "metadata": {},
   "outputs": [],
   "source": [
    "players_with_goals = data[data['goals'] > 0] \n",
    "p_goals = len(player_w_goals) / len(data) \n",
    "player_goals = player_w_goals[player_w_goals['minutes_played'] > 70]\n",
    "\n",
    "p_minutes_and_goals = len(players_goals) / len(data)"
   ]
  },
  {
   "cell_type": "code",
   "execution_count": 15,
   "id": "686f98eb-cef9-42df-a787-95d0490eb91d",
   "metadata": {},
   "outputs": [
    {
     "name": "stdout",
     "output_type": "stream",
     "text": [
      "Probability that a player played more than 70 minutes scored at least one goal: 0.76\n"
     ]
    }
   ],
   "source": [
    "# Calculate Conditional Probability: P(Minutes Played > 70 | Goals > 0)\n",
    "if p_goals > 0:\n",
    "    p_minutes_given_goals = p_minutes_and_goals / p_goals\n",
    "else:\n",
    "    p_minutes_given_goals = 0\n",
    "\n",
    "print(f\"Probability that a player played more than 70 minutes scored at least one goal: {p_minutes_given_goals:.2f}\")"
   ]
  },
  {
   "cell_type": "markdown",
   "id": "9919c8e4-6c89-4ca2-abbe-be71916d7b6f",
   "metadata": {},
   "source": [
    "### Interpretation\n",
    "- This probability indicates how often players who score at least one goal play more than 70 minutes.\n",
    "- A high value suggests key performers are given extended playtime, while a low value highlights impactful contributions from players with fewer minutes."
   ]
  },
  {
   "cell_type": "markdown",
   "id": "04f40bbb-897e-45c0-8b61-f61670a57979",
   "metadata": {},
   "source": [
    "## What is the probability of a player receiving a yellow card in a match?"
   ]
  },
  {
   "cell_type": "code",
   "execution_count": 20,
   "id": "1f933a31-81eb-4e2f-abca-7df3b4872ad9",
   "metadata": {},
   "outputs": [
    {
     "name": "stdout",
     "output_type": "stream",
     "text": [
      "Probability of receiving a yellow card: 0.10\n"
     ]
    }
   ],
   "source": [
    "# Probability of receiving a yellow card\n",
    "prob_yellow_card = (data['yellow_cards'] > 0).mean()\n",
    "print(f\"Probability of receiving a yellow card: {prob_yellow_card:.2f}\")"
   ]
  },
  {
   "cell_type": "markdown",
   "id": "06ee2507-744b-471c-a38e-4c521b6687bf",
   "metadata": {},
   "source": [
    "### Interpretation:\n",
    "- This provides insights into discipline and gameplay intensity. Teams with high probabilities might need to improve discipline to avoid suspensions."
   ]
  },
  {
   "cell_type": "markdown",
   "id": "496bd01a-2953-430d-abfc-529fb877bbd6",
   "metadata": {},
   "source": [
    "--------------------------------------------------------------------------------------------------------------------------------------------------------\n",
    "# 3. Data Sampling\n",
    "## How representative is a sample of 30 matches compared to the entire season's data?"
   ]
  },
  {
   "cell_type": "code",
   "execution_count": 4,
   "id": "e0c42fe8-9c24-4d51-b028-934bf78afb49",
   "metadata": {},
   "outputs": [],
   "source": [
    "import numpy as np\n",
    "\n",
    "# Random sampling of 30 matches\n",
    "sample = total_goals.sample(30, random_state=42)\n",
    "\n",
    "# Compare mean and variance\n",
    "population_mean = total_goals.mean()\n",
    "sample_mean = sample.mean()\n",
    "population_variance = total_goals.var()\n",
    "sample_variance = sample.var()"
   ]
  },
  {
   "cell_type": "code",
   "execution_count": 5,
   "id": "830bca8b-57e7-4d65-b805-a15cb7f96e00",
   "metadata": {},
   "outputs": [
    {
     "name": "stdout",
     "output_type": "stream",
     "text": [
      "Population Mean: 2.78\n",
      "Sample Mean: 2.97\n",
      "Population Variance: 2.88\n",
      "Sample Variance: 3.96\n"
     ]
    }
   ],
   "source": [
    "print(f\"Population Mean: {population_mean:.2f}\")\n",
    "print(f\"Sample Mean: {sample_mean:.2f}\")\n",
    "print(f\"Population Variance: {population_variance:.2f}\")\n",
    "print(f\"Sample Variance: {sample_variance:.2f}\")"
   ]
  },
  {
   "cell_type": "markdown",
   "id": "c78056a1-351b-4765-b055-d47cb930f299",
   "metadata": {},
   "source": [
    "### Interpretation:\n",
    "- If the sample mean and variance closely match the population, the sample is representative of overall trends."
   ]
  },
  {
   "cell_type": "markdown",
   "id": "778c3768-96b4-4c3d-8115-2acf61f28d54",
   "metadata": {},
   "source": [
    "## How does the sample median of goals scored compare to the population median?"
   ]
  },
  {
   "cell_type": "code",
   "execution_count": 6,
   "id": "09e6bf3d-9271-439c-892c-1d1f2570c588",
   "metadata": {},
   "outputs": [
    {
     "name": "stdout",
     "output_type": "stream",
     "text": [
      "Population Median: 2.0, Sample Median: 3.0\n"
     ]
    }
   ],
   "source": [
    "# Random sampling of 30 matches\n",
    "sample_30 = total_goals.sample(30, random_state=42)\n",
    "population_median = total_goals.median()\n",
    "sample_median = sample_30.median()\n",
    "\n",
    "print(f\"Population Median: {population_median}, Sample Median: {sample_median}\")"
   ]
  },
  {
   "cell_type": "markdown",
   "id": "ed814637-458f-4c92-becb-75bef72d1d5f",
   "metadata": {},
   "source": [
    "### Interpretation:\n",
    "- If the sample median closely matches the population median, it indicates that the sample provides a good representation of central tendencies."
   ]
  },
  {
   "cell_type": "markdown",
   "id": "83823966-e25a-4d0f-9ce5-1eb4ad805aac",
   "metadata": {},
   "source": [
    "--------------------------------------------------------------------------------------------------------------------------------------------------------\n",
    "# 4. Central Limit Theorem (CLT)\n",
    "## How does the distribution of the sample mean of goals scored look when sampling multiple subsets of 30 matches?"
   ]
  },
  {
   "cell_type": "code",
   "execution_count": 7,
   "id": "9543276d-f92f-43a3-84f1-f443f6f456ac",
   "metadata": {},
   "outputs": [],
   "source": [
    "import matplotlib.pyplot as plt\n",
    "\n",
    "# Generate sample means\n",
    "sample_means = [total_goals.sample(30, random_state=i).mean() for i in range(1000)]"
   ]
  },
  {
   "cell_type": "code",
   "execution_count": 14,
   "id": "35291bc1-6771-4895-84bd-a01dec5ee599",
   "metadata": {},
   "outputs": [
    {
     "data": {
      "image/png": "[encoded data removed]",
      "text/plain": [
       "<Figure size 800x300 with 1 Axes>"
      ]
     },
     "metadata": {},
     "output_type": "display_data"
    }
   ],
   "source": [
    "plt.figure(figsize=(8,3))\n",
    "plt.hist(sample_means, bins=30, edgecolor='black')\n",
    "plt.title(\"Distribution of Sample Means (CLT)\")\n",
    "plt.xlabel(\"Sample Mean of Goals Scored\")\n",
    "plt.ylabel(\"Frequency\")\n",
    "plt.show()"
   ]
  },
  {
   "cell_type": "markdown",
   "id": "93bb17d7-41f3-431d-9d1b-f0e599d7e86e",
   "metadata": {},
   "source": [
    "### Interpretation:\n",
    "- The plot demonstrates the CLT by showing that the sample means form a normal distribution, even if the original data is not normally distributed."
   ]
  },
  {
   "cell_type": "markdown",
   "id": "caa36a4e-f8c4-458d-bb9f-3e647dfaad85",
   "metadata": {},
   "source": [
    "## What is the standard deviation of sample means for goals scored (CLT demonstration)?"
   ]
  },
  {
   "cell_type": "code",
   "execution_count": 22,
   "id": "51a74ea6-1e27-483c-b18b-cc183688dc73",
   "metadata": {},
   "outputs": [
    {
     "name": "stdout",
     "output_type": "stream",
     "text": [
      "Standard deviation of sample means: 0.31\n"
     ]
    }
   ],
   "source": [
    "sample_means_std = np.std([total_goals.sample(30, random_state=i).mean() for i in range(1000)])\n",
    "print(f\"Standard deviation of sample means: {sample_means_std:.2f}\")"
   ]
  },
  {
   "cell_type": "markdown",
   "id": "a7835947-a340-44eb-94ac-3ca7116677b7",
   "metadata": {},
   "source": [
    "### Interpretation:\n",
    "- This demonstrates the variability of sample means. A lower standard deviation indicates that the sample means are close to the population mean, validating the CLT."
   ]
  },
  {
   "cell_type": "markdown",
   "id": "11d4df60-79d4-45f3-b5af-1e2ceea8affb",
   "metadata": {},
   "source": [
    "--------------------------------------------------------------------------------------------------------------------------------------------------------\n",
    "# 5. Normal Distribution\n",
    "## Are the goals scored per match normally distributed?"
   ]
  },
  {
   "cell_type": "code",
   "execution_count": 16,
   "id": "f2577c4d-4c1a-4692-a8a8-8bfc17d71c4a",
   "metadata": {},
   "outputs": [
    {
     "name": "stdout",
     "output_type": "stream",
     "text": [
      "Goals scored do not follow a normal distribution (reject null hypothesis).\n"
     ]
    }
   ],
   "source": [
    "from scipy.stats import shapiro\n",
    "\n",
    "stat, p_value = shapiro(total_goals) # Perform normality test\n",
    "\n",
    "if p_value > 0.05:\n",
    "    print(\"Goals scored follow a normal distribution (fail to reject null hypothesis).\")\n",
    "else:\n",
    "    print(\"Goals scored do not follow a normal distribution (reject null hypothesis).\")"
   ]
  },
  {
   "cell_type": "markdown",
   "id": "ceb3d33f-304d-47ad-ab36-6a283aa38330",
   "metadata": {},
   "source": [
    "### Interpretation:\n",
    "- The data is not normally distributed, advanced models may be required to analyze scoring trends."
   ]
  },
  {
   "cell_type": "markdown",
   "id": "1f8ed380-be57-4d41-8956-957e317cb7d4",
   "metadata": {},
   "source": [
    "## How does the distribution of goals scored compare to a normal distribution visually?"
   ]
  },
  {
   "cell_type": "code",
   "execution_count": 24,
   "id": "25142295-ae2d-4124-b102-63fc254d4931",
   "metadata": {},
   "outputs": [],
   "source": [
    "import seaborn as sns\n",
    "import matplotlib.pyplot as plt\n",
    "from scipy.stats import norm"
   ]
  },
  {
   "cell_type": "code",
   "execution_count": 31,
   "id": "04c82ded-3586-43fe-823b-346e28da2eea",
   "metadata": {},
   "outputs": [
    {
     "data": {
      "image/png": "[encoded data removed]",
      "text/plain": [
       "<Figure size 640x480 with 1 Axes>"
      ]
     },
     "metadata": {},
     "output_type": "display_data"
    }
   ],
   "source": [
    "sns.histplot(total_goals, kde=True, stat=\"density\", bins=20, color='blue', label='Data')\n",
    "xmin, xmax = plt.xlim()\n",
    "x = np.linspace(xmin, xmax, 100)\n",
    "p = norm.pdf(x, total_goals.mean(), total_goals.std())\n",
    "plt.plot(x, p, 'r', label='Normal Distribution')\n",
    "plt.legend()\n",
    "plt.title(\"Goals Scored vs Normal Distribution\")\n",
    "plt.xlabel(\"Goals Scored\")\n",
    "plt.ylabel(\"Density\")\n",
    "plt.show()"
   ]
  },
  {
   "cell_type": "markdown",
   "id": "a455bf77-7676-41a6-950e-37d1a35df5ff",
   "metadata": {},
   "source": [
    "### Interpretation:\n",
    "- A visual comparison highlights deviations from normality. Significant differences indicate that the data is not perfectly normal, which might require advanced methods for statistical analysis."
   ]
  }
 ],
 "metadata": {
  "kernelspec": {
   "display_name": "Python 3 (ipykernel)",
   "language": "python",
   "name": "python3"
  },
  "language_info": {
   "codemirror_mode": {
    "name": "ipython",
    "version": 3
   },
   "file_extension": ".py",
   "mimetype": "text/x-python",
   "name": "python",
   "nbconvert_exporter": "python",
   "pygments_lexer": "ipython3",
   "version": "3.12.4"
  }
 },
 "nbformat": 4,
 "nbformat_minor": 5
}
