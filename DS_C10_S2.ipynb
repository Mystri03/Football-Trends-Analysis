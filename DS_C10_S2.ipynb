{
 "cells": [
  {
   "cell_type": "markdown",
   "id": "3d5071be-98ba-49d3-ac99-ec9e75aaf565",
   "metadata": {},
   "source": [
    "# Football Data Analysis\n",
    "Football is a global, popular, and dynamic sport with many different factors that can influence the outcome of a match. By analyzing large datasets of football data, teams can gain a deeper understanding of factors that contribute to players' success, enabling coaches, scouts, and analysts to make informed decisions.\n",
    "\n",
    "Football data analysis is the process of collecting, cleaning, and analyzing data to extract meaningful insights. The valuable insights extracted from this analysis can be used to improve player performance, team tactics, fan engagement, and overall decision-making."
   ]
  },
  {
   "cell_type": "markdown",
   "id": "44a1ee6c-702f-4fbd-8b2c-884ae8ae87a1",
   "metadata": {},
   "source": [
    "# Sprint 2\n",
    "- Generating business objectives aligned with each focus area mentioned previously.\n",
    "- Generating busniess question according to the business objctives."
   ]
  },
  {
   "cell_type": "code",
   "execution_count": 1,
   "id": "cddcb4c2-496e-4a34-ad81-0fb903a95522",
   "metadata": {},
   "outputs": [
    {
     "data": {
      "text/html": [
       "<div>\n",
       "<style scoped>\n",
       "    .dataframe tbody tr th:only-of-type {\n",
       "        vertical-align: middle;\n",
       "    }\n",
       "\n",
       "    .dataframe tbody tr th {\n",
       "        vertical-align: top;\n",
       "    }\n",
       "\n",
       "    .dataframe thead th {\n",
       "        text-align: right;\n",
       "    }\n",
       "</style>\n",
       "<table border=\"1\" class=\"dataframe\">\n",
       "  <thead>\n",
       "    <tr style=\"text-align: right;\">\n",
       "      <th></th>\n",
       "      <th>appearance_id</th>\n",
       "      <th>game_id</th>\n",
       "      <th>player_id</th>\n",
       "      <th>date_x</th>\n",
       "      <th>player_name_x</th>\n",
       "      <th>competition_id_x</th>\n",
       "      <th>yellow_cards</th>\n",
       "      <th>red_cards</th>\n",
       "      <th>goals</th>\n",
       "      <th>assists</th>\n",
       "      <th>...</th>\n",
       "      <th>country_of_birth</th>\n",
       "      <th>date_of_birth</th>\n",
       "      <th>sub_position</th>\n",
       "      <th>position_y</th>\n",
       "      <th>foot</th>\n",
       "      <th>height_in_cm</th>\n",
       "      <th>market_value_in_eur</th>\n",
       "      <th>highest_market_value_in_eur</th>\n",
       "      <th>contract_expiration_date</th>\n",
       "      <th>agent_name</th>\n",
       "    </tr>\n",
       "  </thead>\n",
       "  <tbody>\n",
       "    <tr>\n",
       "      <th>0</th>\n",
       "      <td>2222536_1321</td>\n",
       "      <td>2222536.0</td>\n",
       "      <td>1321</td>\n",
       "      <td>2012-08-26 00:00:00</td>\n",
       "      <td>Jermaine Jones</td>\n",
       "      <td>L1</td>\n",
       "      <td>1.0</td>\n",
       "      <td>0.0</td>\n",
       "      <td>0.0</td>\n",
       "      <td>1.0</td>\n",
       "      <td>...</td>\n",
       "      <td>Germany</td>\n",
       "      <td>1981-11-03</td>\n",
       "      <td>Defensive Midfield</td>\n",
       "      <td>Midfield</td>\n",
       "      <td>both</td>\n",
       "      <td>184.0</td>\n",
       "      <td>1000000.0</td>\n",
       "      <td>8000000.0</td>\n",
       "      <td>2024-12-31</td>\n",
       "      <td>Wasserman</td>\n",
       "    </tr>\n",
       "    <tr>\n",
       "      <th>1</th>\n",
       "      <td>2231391_1321</td>\n",
       "      <td>2231391.0</td>\n",
       "      <td>1321</td>\n",
       "      <td>2012-09-01 00:00:00</td>\n",
       "      <td>Jermaine Jones</td>\n",
       "      <td>L1</td>\n",
       "      <td>0.0</td>\n",
       "      <td>0.0</td>\n",
       "      <td>1.0</td>\n",
       "      <td>0.0</td>\n",
       "      <td>...</td>\n",
       "      <td>Germany</td>\n",
       "      <td>1981-11-03</td>\n",
       "      <td>Defensive Midfield</td>\n",
       "      <td>Midfield</td>\n",
       "      <td>both</td>\n",
       "      <td>184.0</td>\n",
       "      <td>1000000.0</td>\n",
       "      <td>8000000.0</td>\n",
       "      <td>2024-12-31</td>\n",
       "      <td>Wasserman</td>\n",
       "    </tr>\n",
       "    <tr>\n",
       "      <th>2</th>\n",
       "      <td>2231391_1321</td>\n",
       "      <td>2231391.0</td>\n",
       "      <td>1321</td>\n",
       "      <td>2012-09-01 00:00:00</td>\n",
       "      <td>Jermaine Jones</td>\n",
       "      <td>L1</td>\n",
       "      <td>0.0</td>\n",
       "      <td>0.0</td>\n",
       "      <td>1.0</td>\n",
       "      <td>0.0</td>\n",
       "      <td>...</td>\n",
       "      <td>Germany</td>\n",
       "      <td>1981-11-03</td>\n",
       "      <td>Defensive Midfield</td>\n",
       "      <td>Midfield</td>\n",
       "      <td>both</td>\n",
       "      <td>184.0</td>\n",
       "      <td>1000000.0</td>\n",
       "      <td>8000000.0</td>\n",
       "      <td>2024-12-31</td>\n",
       "      <td>Wasserman</td>\n",
       "    </tr>\n",
       "    <tr>\n",
       "      <th>3</th>\n",
       "      <td>2231397_1321</td>\n",
       "      <td>2231397.0</td>\n",
       "      <td>1321</td>\n",
       "      <td>2012-09-28 00:00:00</td>\n",
       "      <td>Jermaine Jones</td>\n",
       "      <td>L1</td>\n",
       "      <td>1.0</td>\n",
       "      <td>0.0</td>\n",
       "      <td>0.0</td>\n",
       "      <td>0.0</td>\n",
       "      <td>...</td>\n",
       "      <td>Germany</td>\n",
       "      <td>1981-11-03</td>\n",
       "      <td>Defensive Midfield</td>\n",
       "      <td>Midfield</td>\n",
       "      <td>both</td>\n",
       "      <td>184.0</td>\n",
       "      <td>1000000.0</td>\n",
       "      <td>8000000.0</td>\n",
       "      <td>2024-12-31</td>\n",
       "      <td>Wasserman</td>\n",
       "    </tr>\n",
       "    <tr>\n",
       "      <th>4</th>\n",
       "      <td>2231397_1321</td>\n",
       "      <td>2231397.0</td>\n",
       "      <td>1321</td>\n",
       "      <td>2012-09-28 00:00:00</td>\n",
       "      <td>Jermaine Jones</td>\n",
       "      <td>L1</td>\n",
       "      <td>1.0</td>\n",
       "      <td>0.0</td>\n",
       "      <td>0.0</td>\n",
       "      <td>0.0</td>\n",
       "      <td>...</td>\n",
       "      <td>Germany</td>\n",
       "      <td>1981-11-03</td>\n",
       "      <td>Defensive Midfield</td>\n",
       "      <td>Midfield</td>\n",
       "      <td>both</td>\n",
       "      <td>184.0</td>\n",
       "      <td>1000000.0</td>\n",
       "      <td>8000000.0</td>\n",
       "      <td>2024-12-31</td>\n",
       "      <td>Wasserman</td>\n",
       "    </tr>\n",
       "  </tbody>\n",
       "</table>\n",
       "<p>5 rows × 55 columns</p>\n",
       "</div>"
      ],
      "text/plain": [
       "  appearance_id    game_id  player_id               date_x   player_name_x  \\\n",
       "0  2222536_1321  2222536.0       1321  2012-08-26 00:00:00  Jermaine Jones   \n",
       "1  2231391_1321  2231391.0       1321  2012-09-01 00:00:00  Jermaine Jones   \n",
       "2  2231391_1321  2231391.0       1321  2012-09-01 00:00:00  Jermaine Jones   \n",
       "3  2231397_1321  2231397.0       1321  2012-09-28 00:00:00  Jermaine Jones   \n",
       "4  2231397_1321  2231397.0       1321  2012-09-28 00:00:00  Jermaine Jones   \n",
       "\n",
       "  competition_id_x  yellow_cards  red_cards  goals  assists  ...  \\\n",
       "0               L1           1.0        0.0    0.0      1.0  ...   \n",
       "1               L1           0.0        0.0    1.0      0.0  ...   \n",
       "2               L1           0.0        0.0    1.0      0.0  ...   \n",
       "3               L1           1.0        0.0    0.0      0.0  ...   \n",
       "4               L1           1.0        0.0    0.0      0.0  ...   \n",
       "\n",
       "   country_of_birth date_of_birth        sub_position  position_y  foot  \\\n",
       "0           Germany    1981-11-03  Defensive Midfield    Midfield  both   \n",
       "1           Germany    1981-11-03  Defensive Midfield    Midfield  both   \n",
       "2           Germany    1981-11-03  Defensive Midfield    Midfield  both   \n",
       "3           Germany    1981-11-03  Defensive Midfield    Midfield  both   \n",
       "4           Germany    1981-11-03  Defensive Midfield    Midfield  both   \n",
       "\n",
       "  height_in_cm  market_value_in_eur  highest_market_value_in_eur  \\\n",
       "0        184.0            1000000.0                    8000000.0   \n",
       "1        184.0            1000000.0                    8000000.0   \n",
       "2        184.0            1000000.0                    8000000.0   \n",
       "3        184.0            1000000.0                    8000000.0   \n",
       "4        184.0            1000000.0                    8000000.0   \n",
       "\n",
       "  contract_expiration_date agent_name  \n",
       "0               2024-12-31  Wasserman  \n",
       "1               2024-12-31  Wasserman  \n",
       "2               2024-12-31  Wasserman  \n",
       "3               2024-12-31  Wasserman  \n",
       "4               2024-12-31  Wasserman  \n",
       "\n",
       "[5 rows x 55 columns]"
      ]
     },
     "execution_count": 1,
     "metadata": {},
     "output_type": "execute_result"
    }
   ],
   "source": [
    "import pandas as pd\n",
    "import warnings\n",
    "warnings.filterwarnings('ignore')\n",
    "\n",
    "data = pd.read_csv('football_data.csv')\n",
    "data.head()"
   ]
  },
  {
   "cell_type": "markdown",
   "id": "99a70311-2554-415e-9ad7-d2c2addead14",
   "metadata": {},
   "source": [
    "-------------------------------------------------------------------------------------------------------------------------------------------------------\n",
    "# 1. Performance Analysis\n",
    "Questions:\n",
    "- Which players have the highest average number of assists per game?\n",
    "- Which players consistently perform well across competitions based on goals, assists?"
   ]
  },
  {
   "cell_type": "markdown",
   "id": "f379b09f-633e-4ef1-b189-495c55b32a13",
   "metadata": {},
   "source": [
    "## Which players have the highest average number of assists per game?"
   ]
  },
  {
   "cell_type": "code",
   "execution_count": 3,
   "id": "ea36592d-99b6-46c3-afc0-2bfb0e4ed53c",
   "metadata": {},
   "outputs": [],
   "source": [
    "# Players with the highest average number of assists per game\n",
    "avg_assists = data.groupby('player_name_x')['assists'].mean().sort_values(ascending=False)"
   ]
  },
  {
   "cell_type": "code",
   "execution_count": 4,
   "id": "9bd213b5-9401-4b3f-a3bc-e06999bc2666",
   "metadata": {},
   "outputs": [
    {
     "name": "stdout",
     "output_type": "stream",
     "text": [
      "player_name_x\n",
      "Luca de la Torre     0.500000\n",
      "Joseph Efford        0.428571\n",
      "Michael Parkhurst    0.280000\n",
      "Juan Agudelo         0.214286\n",
      "Christian Pulisic    0.187135\n",
      "Name: assists, dtype: float64\n"
     ]
    }
   ],
   "source": [
    "print(avg_assists.head())"
   ]
  },
  {
   "cell_type": "markdown",
   "id": "c2969b48-50c0-4f31-a04e-60ee4584b979",
   "metadata": {},
   "source": [
    "### Interpretation:\n",
    "The players who are consistent in assisting goals during their games. The higher the average, the more impactful the player is in creating scoring opportunities."
   ]
  },
  {
   "cell_type": "markdown",
   "id": "71e89e18-7483-4a87-a2f3-7a789c61d926",
   "metadata": {},
   "source": [
    "## Which players consistently perform well across competitions based on goals, assists?"
   ]
  },
  {
   "cell_type": "code",
   "execution_count": 5,
   "id": "777dfa0a-c68e-4b1f-96cc-daae67997604",
   "metadata": {},
   "outputs": [],
   "source": [
    "# Calculate Goals + Assists\n",
    "data['goals+assists'] = (data['goals'] + data['assists'])\n",
    "\n",
    "# Sort players by performance\n",
    "player_p = data.sort_values(by=\"goals+assists\", ascending=False)[:5]"
   ]
  },
  {
   "cell_type": "code",
   "execution_count": 6,
   "id": "c4c99c91-8f72-4cd6-b202-2ae0aee50c35",
   "metadata": {},
   "outputs": [
    {
     "name": "stdout",
     "output_type": "stream",
     "text": [
      "       appearance_id    game_id  player_id               date_x  \\\n",
      "1873  2224542_119169  2224542.0     119169  2012-08-27 00:00:00   \n",
      "1875  2224542_119169  2224542.0     119169  2012-08-27 00:00:00   \n",
      "1872  2224542_119169  2224542.0     119169  2012-08-27 00:00:00   \n",
      "1871  2224542_119169  2224542.0     119169  2012-08-27 00:00:00   \n",
      "841    2250210_39378  2250210.0      39378  2012-09-16 00:00:00   \n",
      "\n",
      "        player_name_x competition_id_x  yellow_cards  red_cards  goals  \\\n",
      "1873  Aron Johannsson              DK1           0.0        0.0    4.0   \n",
      "1875  Aron Johannsson              DK1           0.0        0.0    4.0   \n",
      "1872  Aron Johannsson              DK1           0.0        0.0    4.0   \n",
      "1871  Aron Johannsson              DK1           0.0        0.0    4.0   \n",
      "841     Jozy Altidore              NL1           0.0        0.0    3.0   \n",
      "\n",
      "      assists  ...  date_of_birth    sub_position position_y   foot  \\\n",
      "1873      0.0  ...     1990-11-10  Centre-Forward     Attack  right   \n",
      "1875      0.0  ...     1990-11-10  Centre-Forward     Attack  right   \n",
      "1872      0.0  ...     1990-11-10  Centre-Forward     Attack  right   \n",
      "1871      0.0  ...     1990-11-10  Centre-Forward     Attack  right   \n",
      "841       1.0  ...     1989-11-06  Centre-Forward     Attack  right   \n",
      "\n",
      "     height_in_cm market_value_in_eur  highest_market_value_in_eur  \\\n",
      "1873        184.0            400000.0                    4000000.0   \n",
      "1875        184.0            400000.0                    4000000.0   \n",
      "1872        184.0            400000.0                    4000000.0   \n",
      "1871        184.0            400000.0                    4000000.0   \n",
      "841         185.0            500000.0                    9000000.0   \n",
      "\n",
      "      contract_expiration_date   agent_name goals+assists  \n",
      "1873                2024-12-31  CAA Stellar           4.0  \n",
      "1875                2024-12-31  CAA Stellar           4.0  \n",
      "1872                2024-12-31  CAA Stellar           4.0  \n",
      "1871                2024-12-31  CAA Stellar           4.0  \n",
      "841                 2024-12-31    Wasserman           4.0  \n",
      "\n",
      "[5 rows x 56 columns]\n"
     ]
    }
   ],
   "source": [
    "print(player_p)"
   ]
  },
  {
   "cell_type": "markdown",
   "id": "3a56d693-fbe5-4d0a-94f1-416feba1740a",
   "metadata": {},
   "source": [
    "### Interpretation:\n",
    "- The top 5 players consistently perform well across competitions based on goals, assists"
   ]
  },
  {
   "cell_type": "markdown",
   "id": "c404dda3-22dd-4e97-9cb8-937eec95287c",
   "metadata": {},
   "source": [
    "-------------------------------------------------------------------------------------------------------------------------------------------------------\n",
    "# 2. Player Profile and Market Value\n",
    "Questions:\n",
    "- Who are the top 5 players with the highest market value?\n",
    "- How do market values of players vary across different competitions?"
   ]
  },
  {
   "cell_type": "markdown",
   "id": "64cbd11f-9e64-4e71-9d1d-c833844570e3",
   "metadata": {},
   "source": [
    "## Which player position attributes are most strongly associated with higher market value?\n",
    "(e.g., position, or nationality, age) "
   ]
  },
  {
   "cell_type": "code",
   "execution_count": 8,
   "id": "172a50cd-f542-457e-a86a-3e4968c2b727",
   "metadata": {},
   "outputs": [
    {
     "name": "stdout",
     "output_type": "stream",
     "text": [
      "          player_name_x  market_value_in_eur\n",
      "4370     Fabian Johnson           30000000.0\n",
      "3294  Christian Pulisic           25000000.0\n",
      "3282  Christian Pulisic           25000000.0\n",
      "3289  Christian Pulisic           25000000.0\n",
      "3288  Christian Pulisic           25000000.0\n"
     ]
    }
   ],
   "source": [
    "# Top 5 players with the highest market value\n",
    "top_market_value = data[['player_name_x', 'market_value_in_eur']].sort_values(by='market_value_in_eur', ascending=False)\n",
    "print(top_market_value.head(5))"
   ]
  },
  {
   "cell_type": "markdown",
   "id": "9a86d2d0-6be1-4f65-a756-76b051baac47",
   "metadata": {},
   "source": [
    "### Interpretation: \n",
    "- Highlights the most financially valuable players, useful for transfer or sponsorship decisions."
   ]
  },
  {
   "cell_type": "markdown",
   "id": "48e885e1-1f99-40c3-8bfd-63a90c839f70",
   "metadata": {},
   "source": [
    "## How do market values of players vary across different competitions?"
   ]
  },
  {
   "cell_type": "code",
   "execution_count": 15,
   "id": "aba3f825-5a02-42e3-8702-d1bcbdcc4d43",
   "metadata": {},
   "outputs": [
    {
     "name": "stdout",
     "output_type": "stream",
     "text": [
      "competition_type\n",
      "other                1.134444e+07\n",
      "international_cup    5.232022e+06\n",
      "domestic_league      4.304783e+06\n",
      "domestic_cup         4.022037e+06\n",
      "Name: market_value_in_eur, dtype: float64\n"
     ]
    }
   ],
   "source": [
    "# Group by competition and calculate average market value\n",
    "competition_market = data.groupby('competition_type')['market_value_in_eur'].mean().sort_values(ascending=False)\n",
    "print(competition_market)"
   ]
  },
  {
   "cell_type": "code",
   "execution_count": 32,
   "id": "fc14cf58-7715-40f8-afc1-71e7c0e6cb38",
   "metadata": {},
   "outputs": [
    {
     "data": {
      "image/png": "[encoded data removed]",
      "text/plain": [
       "<Figure size 1100x300 with 1 Axes>"
      ]
     },
     "metadata": {},
     "output_type": "display_data"
    }
   ],
   "source": [
    "import matplotlib.pyplot as plt\n",
    "competition_market.plot(kind='bar', figsize=(11, 3), color='skyblue')\n",
    "plt.title('Average Market Value by Competition')\n",
    "plt.xlabel('Competition')\n",
    "plt.ylabel('Average Market Value')\n",
    "plt.xticks(rotation=0)\n",
    "plt.show()"
   ]
  },
  {
   "cell_type": "markdown",
   "id": "334ef21d-dd94-4ff7-a2c1-82c6d71733ed",
   "metadata": {},
   "source": [
    "### Interpretation:\n",
    "- The Average market values of players vary across different competitions such as (International_cup, Domestic_league, Domestic_cup)"
   ]
  },
  {
   "cell_type": "markdown",
   "id": "c3026ba7-6373-4a63-9a45-8478cf6058a7",
   "metadata": {},
   "source": [
    "-------------------------------------------------------------------------------------------------------------------------------------------------------\n",
    "# 3. Team Comparison\n",
    "Questions:\n",
    "\n",
    "- Which player has the highest goals per game?\n",
    "- How do team performances compare in terms of goals scored?"
   ]
  },
  {
   "cell_type": "markdown",
   "id": "f7a45696-775a-4f22-b39f-190d7d0a896d",
   "metadata": {},
   "source": [
    "## Which player has the highest goals per game?"
   ]
  },
  {
   "cell_type": "code",
   "execution_count": 13,
   "id": "e8f6a354-1253-4ff7-8abf-f0d2b8d25652",
   "metadata": {},
   "outputs": [
    {
     "name": "stdout",
     "output_type": "stream",
     "text": [
      "player_name_x\n",
      "Aron Johannsson      119.0\n",
      "Jozy Altidore         70.0\n",
      "Christian Pulisic     46.0\n",
      "Fabian Johnson        28.0\n",
      "Bobby Wood            26.0\n",
      "Name: goals, dtype: float64\n"
     ]
    }
   ],
   "source": [
    "# Team with the highest goals\n",
    "team_goals = data.groupby('player_name_x')['goals'].sum().sort_values(ascending=False)\n",
    "print(team_goals.head(5))"
   ]
  },
  {
   "cell_type": "markdown",
   "id": "7e4c0386-5eab-4c0c-b9d3-73c1d1c62328",
   "metadata": {},
   "source": [
    "### Interpretation:\n",
    "- This helps identify the most effective player offensively."
   ]
  },
  {
   "cell_type": "markdown",
   "id": "78fbe352-b3ee-4657-9e8b-e1d1020af858",
   "metadata": {},
   "source": [
    "## How do team performances compare in terms of goals scored?"
   ]
  },
  {
   "cell_type": "code",
   "execution_count": 22,
   "id": "8a4adb4b-f4ad-4efa-9fd9-e4eeaed7fa2c",
   "metadata": {},
   "outputs": [],
   "source": [
    "# Group by team and competition and calculate total goals\n",
    "team_performance = data.groupby(['competition_type'])['goals'].sum().reset_index()"
   ]
  },
  {
   "cell_type": "code",
   "execution_count": 23,
   "id": "f6dd1d5a-5969-4564-870a-d5fb148791d1",
   "metadata": {},
   "outputs": [
    {
     "name": "stdout",
     "output_type": "stream",
     "text": [
      "    competition_type  goals\n",
      "1    domestic_league  426.0\n",
      "0       domestic_cup   83.0\n",
      "2  international_cup   28.0\n",
      "3              other    4.0\n"
     ]
    }
   ],
   "source": [
    "# Sort the data to compare top and bottom performing teams\n",
    "team_performance_sort = team_performance.sort_values(by='goals', ascending=False)\n",
    "print(team_performance_sort.head())"
   ]
  },
  {
   "cell_type": "markdown",
   "id": "bd5d0ad0-a215-4d9a-8cac-ba48fd3019fd",
   "metadata": {},
   "source": [
    "### Interpretation: \n",
    "- The team performances compare in terms of goals scored and competition types such as (In Domestic League player have scored highest goals of 426)"
   ]
  },
  {
   "cell_type": "markdown",
   "id": "1225bc7d-6d90-43a3-86dd-a93227e86f70",
   "metadata": {},
   "source": [
    "-------------------------------------------------------------------------------------------------------------------------------------------------------\n",
    "# 4. Attendance and Stadium Analysis\n",
    "Question:\n",
    "\n",
    "- Which stadiums have the highest average attendance?\n",
    "- How does the average attendance at matches vary by team?"
   ]
  },
  {
   "cell_type": "markdown",
   "id": "9dfbf6c4-ff2b-42af-824d-fac82889672b",
   "metadata": {},
   "source": [
    "## Which stadiums have the highest average attendance?"
   ]
  },
  {
   "cell_type": "code",
   "execution_count": 14,
   "id": "9965f880-409e-4093-bbee-f0e52a120b86",
   "metadata": {},
   "outputs": [
    {
     "name": "stdout",
     "output_type": "stream",
     "text": [
      "stadium\n",
      "Old Trafford             75112.100000\n",
      "Santiago Bernabeu        67739.000000\n",
      "Allianz Arena            66546.078125\n",
      "Spotify Camp Nou         61768.500000\n",
      "Civitas Metropolitano    61023.000000\n",
      "Name: attendance, dtype: float64\n"
     ]
    }
   ],
   "source": [
    "# Top stadiums by average attendance\n",
    "stadium_attendance = data.groupby('stadium')['attendance'].mean().sort_values(ascending=False)\n",
    "print(stadium_attendance.head(5))"
   ]
  },
  {
   "cell_type": "markdown",
   "id": "c48abd7d-4e3d-47c1-b408-2d405dc0dde4",
   "metadata": {},
   "source": [
    "### Interpretation:\n",
    "- Insights into stadium popularity and fan engagement."
   ]
  },
  {
   "cell_type": "markdown",
   "id": "c9a4a622-25b6-445a-ab88-e34614e2d161",
   "metadata": {},
   "source": [
    "## How does the average attendance at matches vary by team captin?"
   ]
  },
  {
   "cell_type": "code",
   "execution_count": 33,
   "id": "acadc051-dba3-4393-9b1f-3b1eaeb99524",
   "metadata": {},
   "outputs": [
    {
     "data": {
      "image/png": "[encoded data removed]",
      "text/plain": [
       "<Figure size 500x200 with 1 Axes>"
      ]
     },
     "metadata": {},
     "output_type": "display_data"
    }
   ],
   "source": [
    "avg_att_by_team = data.groupby('team_captain')['attendance'].mean()\n",
    "plt.figure(figsize=(5,2))\n",
    "plt.bar(avg_att_by_team.index,avg_att_by_team.values,color='skyblue')\n",
    "plt.title('Average Attendance by Team Captin')\n",
    "plt.xlabel('Team')\n",
    "plt.ylabel('Average Attendance')\n",
    "plt.show()"
   ]
  },
  {
   "cell_type": "markdown",
   "id": "5fed8e83-4398-4f03-8c74-1ff9b2660cb5",
   "metadata": {
    "jp-MarkdownHeadingCollapsed": true
   },
   "source": [
    "### Interpretation\n",
    "- This analysis reveals which teams captain attract more fans, indicating marketability and fan engagement."
   ]
  },
  {
   "cell_type": "markdown",
   "id": "592b00d8-eb2e-48ba-8981-73c29e991d9a",
   "metadata": {},
   "source": [
    "-------------------------------------------------------------------------------------------------------------------------------------------------------\n",
    "# 5. Referee Analysis\n",
    "Question: \n",
    "- Which referees issue the most yellow and red cards?\n",
    "- What is the average number of cards issued per match by different referees?"
   ]
  },
  {
   "cell_type": "markdown",
   "id": "95cf75d8-5970-4716-be59-0da1e3a6545d",
   "metadata": {},
   "source": [
    "## Which referees issue the most yellow and red cards?"
   ]
  },
  {
   "cell_type": "code",
   "execution_count": 45,
   "id": "056079b2-134f-4f27-8ce9-7744c9dc9dc8",
   "metadata": {},
   "outputs": [
    {
     "name": "stdout",
     "output_type": "stream",
     "text": [
      "                 yellow_cards  red_cards\n",
      "referee                                 \n",
      "Dr. Felix Brych          14.0        0.0\n",
      "Guido Winkmann           13.0        0.0\n",
      "Felix Zwayer             13.0        1.0\n",
      "Tobias Stieler           10.0        1.0\n",
      "Bjorn Kuipers            10.0        0.0\n"
     ]
    }
   ],
   "source": [
    "# Yellow and red cards per referee\n",
    "referee_cards = data.groupby('referee')[['yellow_cards', 'red_cards']].sum()\n",
    "print(referee_cards.sort_values(by='yellow_cards', ascending=False).head())"
   ]
  },
  {
   "cell_type": "markdown",
   "id": "ffc4c2e4-8a15-4198-bdf6-a9e7c2560435",
   "metadata": {},
   "source": [
    "### Interpretion:\n",
    "- Identifies strict referees and their tendencies in decision-making."
   ]
  },
  {
   "cell_type": "markdown",
   "id": "5aa22f24-b9ff-4a56-8d93-e5eb297cae36",
   "metadata": {},
   "source": [
    "## What is the average number of cards issued per match by different referees?"
   ]
  },
  {
   "cell_type": "code",
   "execution_count": 47,
   "id": "6d7b3a9e-8e87-4e02-b52f-eacc9e8160d0",
   "metadata": {},
   "outputs": [
    {
     "name": "stdout",
     "output_type": "stream",
     "text": [
      "                 yellow_cards  red_cards\n",
      "referee                                 \n",
      "Cuneyt Cakır             1.25        0.0\n",
      "Marcin Borski            1.00        0.0\n",
      "Willy Delajod            1.00        0.0\n",
      "Ilker Meral              1.00        0.0\n",
      "Huseyin Sabancı          1.00        0.0\n"
     ]
    }
   ],
   "source": [
    "# Yellow and red cards per referee\n",
    "referee_cards = data.groupby('referee')[['yellow_cards', 'red_cards']].mean()\n",
    "print(referee_cards.sort_values(by='yellow_cards', ascending=False).head())"
   ]
  },
  {
   "cell_type": "markdown",
   "id": "b7317ba5-b9f3-4b93-90a1-b23dded89b4c",
   "metadata": {},
   "source": [
    "### Interpretation:\n",
    "- Identifies average number of cards issued by referees is yellow card"
   ]
  },
  {
   "cell_type": "markdown",
   "id": "5c72a595-1a0b-409c-bc75-e37572e3330d",
   "metadata": {},
   "source": [
    "-------------------------------------------------------------------------------------------------------------------------------------------------------\n",
    "# 6. Substitution Patterns\n",
    "Question:\n",
    "- What are the most common substitution minutes?\n",
    "- How do substitutions influence match outcomes?"
   ]
  },
  {
   "cell_type": "markdown",
   "id": "ae3484bc-fbc5-4995-88bf-1235ba8a6c42",
   "metadata": {},
   "source": [
    "## What are the most common substitution minutes?"
   ]
  },
  {
   "cell_type": "code",
   "execution_count": 49,
   "id": "6724c4e3-4888-4ef6-8cb6-2ac3b4f1e3cf",
   "metadata": {},
   "outputs": [
    {
     "name": "stdout",
     "output_type": "stream",
     "text": [
      "minute\n",
      "69.0    2840\n",
      "90.0     110\n",
      "46.0      89\n",
      "84.0      53\n",
      "74.0      52\n",
      "Name: count, dtype: int64\n"
     ]
    }
   ],
   "source": [
    "# Most common substitution minutes\n",
    "substitution_minutes = data['minute'].value_counts()\n",
    "print(substitution_minutes.head(5))"
   ]
  },
  {
   "cell_type": "markdown",
   "id": "7b88e5fc-bec3-43ee-a08c-11247bef4cce",
   "metadata": {},
   "source": [
    "### Interpretation:\n",
    "- This helps to understand substitution timing trends."
   ]
  },
  {
   "cell_type": "markdown",
   "id": "1b4fdbdd-49b7-4917-a265-3f0e61f8244b",
   "metadata": {},
   "source": [
    "## How do substitutions influence match outcomes?"
   ]
  },
  {
   "cell_type": "code",
   "execution_count": 76,
   "id": "ffeb70bf-cb3c-4353-97f7-f0911b91fbfb",
   "metadata": {},
   "outputs": [
    {
     "data": {
      "image/png": "[encoded data removed]",
      "text/plain": [
       "<Figure size 800x300 with 1 Axes>"
      ]
     },
     "metadata": {},
     "output_type": "display_data"
    }
   ],
   "source": [
    "substitution_analysis = data.groupby('minute').agg({'goals': 'sum', 'assists': 'count'}).reset_index()\n",
    "\n",
    "fig, ax = plt.subplots(figsize=(8, 3))\n",
    "substitution_analysis.plot(x='minute', y='goals', kind='line', title='Goals After Substitution by Time', ax=ax)\n",
    "plt.show()"
   ]
  },
  {
   "cell_type": "markdown",
   "id": "c7fca6d3-b2da-4c00-b6fc-b9d76be547e6",
   "metadata": {},
   "source": [
    "### Interpretation:\n",
    "- This shows relationship between the timing of substitutions and goals scored in the match."
   ]
  },
  {
   "cell_type": "markdown",
   "id": "2128a438-16a0-4bd0-8a1b-c9dea5a99f1d",
   "metadata": {},
   "source": [
    "-------------------------------------------------------------------------------------------------------------------------------------------------------\n",
    "# 7. Event Analysis\n",
    "\n",
    "Question: \n",
    "- What is the distribution of event (eg. goals, fouls, cards) types during games?\n",
    "- How do event frequencies differ across seasons?"
   ]
  },
  {
   "cell_type": "markdown",
   "id": "86cbebba-25fc-4a8f-9a53-07749307fc88",
   "metadata": {},
   "source": [
    "## What is the distribution of event types during games?"
   ]
  },
  {
   "cell_type": "code",
   "execution_count": 79,
   "id": "ce80e934-e4c1-4ff2-92ed-3035298c17c4",
   "metadata": {},
   "outputs": [
    {
     "name": "stdout",
     "output_type": "stream",
     "text": [
      "type_x\n",
      "Substitutions    3961\n",
      "Goals             509\n",
      "Cards             184\n",
      "Name: count, dtype: int64\n"
     ]
    }
   ],
   "source": [
    "# Distribution of event types\n",
    "event_distribution = data['type_x'].value_counts()\n",
    "print(event_distribution)"
   ]
  },
  {
   "cell_type": "markdown",
   "id": "509eec17-90c2-4c81-9af4-f7bf99a96bcb",
   "metadata": {},
   "source": [
    "### Interpretation:\n",
    "- This shows the frequency of different game events."
   ]
  },
  {
   "cell_type": "markdown",
   "id": "342d7b55-b5e8-49c1-b38a-a1ce86b19a4d",
   "metadata": {},
   "source": [
    "##  How do event frequencies differ across seasons?"
   ]
  },
  {
   "cell_type": "code",
   "execution_count": 103,
   "id": "b1a12b86-dcbd-4e2a-9cfd-e3fdb79b5ac5",
   "metadata": {},
   "outputs": [],
   "source": [
    "# Grouping data by competition and event type to calculate event frequencies\n",
    "event_season = data.groupby(['season', 'type_x']).size()"
   ]
  },
  {
   "cell_type": "code",
   "execution_count": 104,
   "id": "92375128-0c17-4435-b3e1-d973ef176ad2",
   "metadata": {},
   "outputs": [
    {
     "data": {
      "image/png": "[encoded data removed]",
      "text/plain": [
       "<Figure size 1200x400 with 1 Axes>"
      ]
     },
     "metadata": {},
     "output_type": "display_data"
    }
   ],
   "source": [
    "event_season.plot(kind='bar', stacked=True, figsize=(12, 4))\n",
    "plt.title('Event Frequency by Season')\n",
    "plt.ylabel('Event Count')\n",
    "plt.xlabel('Season')\n",
    "plt.xticks(rotation=45)\n",
    "plt.tight_layout()\n",
    "plt.show()"
   ]
  },
  {
   "cell_type": "markdown",
   "id": "7cb95477-0075-4971-92fd-207d02aceda1",
   "metadata": {},
   "source": [
    "-------------------------------------------------------------------------------------------------------------------------------------------------------\n",
    "# 8. Competition Analysis\n",
    "\n",
    "Question: \n",
    "- Which competition has the highest average attendance?\n",
    "- Which competition has the highest goals?"
   ]
  },
  {
   "cell_type": "markdown",
   "id": "81f88f14-f311-4e97-b9ca-e6a4adcf32d9",
   "metadata": {},
   "source": [
    "## Which competition has the highest average attendance?"
   ]
  },
  {
   "cell_type": "code",
   "execution_count": 107,
   "id": "01bbbc3f-4807-454d-91c2-3ec4aae530ad",
   "metadata": {},
   "outputs": [
    {
     "name": "stdout",
     "output_type": "stream",
     "text": [
      "competition_type\n",
      "other                43190.333333\n",
      "international_cup    30822.825843\n",
      "domestic_league      29295.700584\n",
      "domestic_cup         22995.438889\n",
      "Name: attendance, dtype: float64\n"
     ]
    }
   ],
   "source": [
    "# Average attendance by competition\n",
    "competition_attendance = data.groupby('competition_type')['attendance'].mean().sort_values(ascending=False)\n",
    "print(competition_attendance)"
   ]
  },
  {
   "cell_type": "markdown",
   "id": "5fe20db5-e5a5-45ed-9cf8-003a9ab09487",
   "metadata": {},
   "source": [
    "### Interpretation:\n",
    "- This highlights competitions with the highest fan engagement."
   ]
  },
  {
   "cell_type": "markdown",
   "id": "4fbf7710-4f0f-47bc-8baf-4505486272cd",
   "metadata": {},
   "source": [
    "## Which competition has the highest goals?"
   ]
  },
  {
   "cell_type": "code",
   "execution_count": 108,
   "id": "26305961-1402-4497-99b1-c527cd6f261a",
   "metadata": {},
   "outputs": [
    {
     "name": "stdout",
     "output_type": "stream",
     "text": [
      "competition_type\n",
      "domestic_league      426.0\n",
      "domestic_cup          83.0\n",
      "international_cup     28.0\n",
      "other                  4.0\n",
      "Name: goals, dtype: float64\n"
     ]
    }
   ],
   "source": [
    "# Total goal by competition\n",
    "competition_goal = data.groupby('competition_type')['goals'].sum().sort_values(ascending=False)\n",
    "print(competition_goal)"
   ]
  },
  {
   "cell_type": "markdown",
   "id": "0a466c74-80e9-423e-bd03-2d83ad17d11d",
   "metadata": {},
   "source": [
    "### Interpretation: \n",
    "- This highlights competitions with the highest goals that is on domestic league."
   ]
  },
  {
   "cell_type": "markdown",
   "id": "933eb67f-5824-4e2b-bfc1-4fa96faf002e",
   "metadata": {},
   "source": [
    "-------------------------------------------------------------------------------------------------------------------------------------------------------\n",
    "# 9. Player Attributes and Demographics\n",
    "Question: \n",
    "- What is the average height and weight of players by position?\n",
    "- How does the player's position influence their goal-scoring performance and assists?\r\n"
   ]
  },
  {
   "cell_type": "markdown",
   "id": "74bc1f39-2d45-4e74-877d-4fea39ece8a6",
   "metadata": {},
   "source": [
    "## What is the average height and weight of players by position?"
   ]
  },
  {
   "cell_type": "code",
   "execution_count": 111,
   "id": "247935fc-e432-417d-ad7d-64d3fa46a79e",
   "metadata": {},
   "outputs": [
    {
     "name": "stdout",
     "output_type": "stream",
     "text": [
      "position_x\n",
      "Attacking Midfield    183.166667\n",
      "Central Midfield      181.210526\n",
      "Centre-Back           183.837054\n",
      "Centre-Forward        185.466667\n",
      "Defensive Midfield    178.214286\n",
      "Goalkeeper            195.000000\n",
      "Left Winger           175.750000\n",
      "Left-Back             171.583333\n",
      "Right Midfield        182.681818\n",
      "Right Winger          177.636364\n",
      "Right-Back            179.181818\n",
      "Name: height_in_cm, dtype: float64\n"
     ]
    }
   ],
   "source": [
    "# Average height and weight by position\n",
    "player_attributes = data.groupby('position_x')['height_in_cm'].mean()\n",
    "print(player_attributes)"
   ]
  },
  {
   "cell_type": "markdown",
   "id": "5d304551-3b66-4ff7-a775-312de2ce80a9",
   "metadata": {},
   "source": [
    "### Interpretation:  \n",
    "- This helps analyze physical trends by position."
   ]
  },
  {
   "cell_type": "markdown",
   "id": "ea4c40bb-209b-452f-92a3-c3615c2e0c39",
   "metadata": {},
   "source": [
    "## How does the player's position influence their goal-scoring performance and assists?"
   ]
  },
  {
   "cell_type": "code",
   "execution_count": 122,
   "id": "2ae3f0e1-7c3c-46bf-91da-78c9eb4eb8c9",
   "metadata": {},
   "outputs": [
    {
     "data": {
      "image/png": "[encoded data removed]",
      "text/plain": [
       "<Figure size 1200x300 with 1 Axes>"
      ]
     },
     "metadata": {},
     "output_type": "display_data"
    }
   ],
   "source": [
    "position_performance = data.groupby('position_x')['goals+assists'].mean().reset_index()\n",
    "\n",
    "plt.figure(figsize=(12, 3))\n",
    "sns.barplot(x='position_x', y='goals+assists', data=position_performance, palette='Set2')\n",
    "plt.title('Average Goals Scored by Position')\n",
    "plt.xlabel('Position')\n",
    "plt.ylabel('Average Goals')\n",
    "plt.xticks(rotation=30)\n",
    "plt.show()"
   ]
  },
  {
   "cell_type": "markdown",
   "id": "7e88a9af-12a4-4c4b-9807-bed78b3ebb6f",
   "metadata": {},
   "source": [
    "### Interpretation:\n",
    "- This helps analyze physical trends by position."
   ]
  },
  {
   "cell_type": "markdown",
   "id": "d02be11e-a5fa-439c-8542-5d9f1734adca",
   "metadata": {},
   "source": [
    "-------------------------------------------------------------------------------------------------------------------------------------------------------\n",
    "# 10. Contract Management\n",
    "Question: \n",
    "- Which players have contracts expiring within the next year?\n",
    "- How does the contract length correlate with player performance metrics (e.g., goals, assists)?"
   ]
  },
  {
   "cell_type": "markdown",
   "id": "96dc81a1-0961-4878-8f01-5703a710ea4b",
   "metadata": {},
   "source": [
    "## Which players have contracts expiring within the next year?"
   ]
  },
  {
   "cell_type": "code",
   "execution_count": 123,
   "id": "94c265d9-d382-4c35-b95e-41b6666232bf",
   "metadata": {},
   "outputs": [
    {
     "name": "stdout",
     "output_type": "stream",
     "text": [
      "         player_name_x contract_expiration_date\n",
      "1242  Timothy Chandler               2025-06-30\n",
      "1243  Timothy Chandler               2025-06-30\n",
      "1244  Timothy Chandler               2025-06-30\n",
      "1245  Timothy Chandler               2025-06-30\n",
      "1246  Timothy Chandler               2025-06-30\n",
      "...                ...                      ...\n",
      "4629    Fabian Johnson               2025-06-30\n",
      "4636    Fabian Johnson               2025-06-30\n",
      "4638    Fabian Johnson               2025-06-30\n",
      "4645    Fabian Johnson               2025-06-30\n",
      "4650    Fabian Johnson               2025-12-31\n",
      "\n",
      "[866 rows x 2 columns]\n"
     ]
    }
   ],
   "source": [
    "# Players with contracts expiring in the next year\n",
    "from datetime import datetime, timedelta\n",
    "current_date = datetime.now()\n",
    "one_year_later = current_date + timedelta(days=365)\n",
    "\n",
    "data['contract_expiration_date'] = pd.to_datetime(data['contract_expiration_date'])\n",
    "expiring_contracts = data[data['contract_expiration_date'].between(current_date, one_year_later)]\n",
    "print(expiring_contracts[['player_name_x', 'contract_expiration_date']])"
   ]
  },
  {
   "cell_type": "markdown",
   "id": "d42a2d6c-9409-4ce3-b47b-b03aff40be0c",
   "metadata": {},
   "source": [
    "### Interpretation:\n",
    "- This helps clubs manage contract renewals effectively."
   ]
  },
  {
   "cell_type": "markdown",
   "id": "3951472e-6f38-402b-bba5-18892834c5db",
   "metadata": {},
   "source": [
    "## How does the contract length correlate with player performance metrics (e.g., goals, assists)?"
   ]
  },
  {
   "cell_type": "code",
   "execution_count": 131,
   "id": "32a88b50-1ca5-4270-8f75-b77c57ea67de",
   "metadata": {},
   "outputs": [
    {
     "name": "stdout",
     "output_type": "stream",
     "text": [
      "                          contract_expiration_date  goals+assists\n",
      "contract_expiration_date                  1.000000       0.010871\n",
      "goals+assists                             0.010871       1.000000\n"
     ]
    }
   ],
   "source": [
    "# Calculate the correlation between contract duration and performance metrics (goals, assists)\n",
    "contract_performance_corr = data[['contract_expiration_date', 'goals+assists']].corr()\n",
    "print(contract_performance_corr)"
   ]
  },
  {
   "cell_type": "code",
   "execution_count": 134,
   "id": "77df761d-e01c-4e61-88e4-f8b6723aaa2e",
   "metadata": {},
   "outputs": [
    {
     "data": {
      "image/png": "[encoded data removed]",
      "text/plain": [
       "<Figure size 1000x300 with 1 Axes>"
      ]
     },
     "metadata": {},
     "output_type": "display_data"
    }
   ],
   "source": [
    "plt.figure(figsize=(10, 3))\n",
    "sns.scatterplot(x='contract_expiration_date', y='goals+assists', data=data, color='skyblue', alpha=0.6, label='Goals')\n",
    "plt.title('Contract Duration vs Goals/Assists')\n",
    "plt.xlabel('Contract Duration (years)')\n",
    "plt.ylabel('Goals')\n",
    "plt.tight_layout()\n",
    "plt.show()"
   ]
  },
  {
   "cell_type": "markdown",
   "id": "154d0974-559e-4867-8974-6e9a7b6b6e7a",
   "metadata": {},
   "source": [
    "### Interpretation:\n",
    "- The scatter plot shows no clear relationship between contract duration and goals/assists, suggesting that contract length doesn't necessarily predict player performance."
   ]
  }
 ],
 "metadata": {
  "kernelspec": {
   "display_name": "Python 3 (ipykernel)",
   "language": "python",
   "name": "python3"
  },
  "language_info": {
   "codemirror_mode": {
    "name": "ipython",
    "version": 3
   },
   "file_extension": ".py",
   "mimetype": "text/x-python",
   "name": "python",
   "nbconvert_exporter": "python",
   "pygments_lexer": "ipython3",
   "version": "3.12.4"
  }
 },
 "nbformat": 4,
 "nbformat_minor": 5
}
