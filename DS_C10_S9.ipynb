{
 "cells": [
  {
   "cell_type": "markdown",
   "id": "eebf498d-c472-425f-8948-11ce07f4447d",
   "metadata": {},
   "source": [
    "# Football Data Analysis\n",
    "Football is a global, popular, and dynamic sport with many different factors that can influence the outcome of a match. By analyzing large datasets of football data, teams can gain a deeper understanding of factors that contribute to players' success, enabling coaches, scouts, and analysts to make informed decisions.\n",
    "\n",
    "Football data analysis is the process of collecting, cleaning, and analyzing data to extract meaningful insights. The valuable insights extracted from this analysis can be used to improve player performance, team tactics, fan engagement, and overall decision-making."
   ]
  },
  {
   "cell_type": "markdown",
   "id": "9598319f-00ce-47e6-b273-6a94028a7452",
   "metadata": {},
   "source": [
    "# Sprint 9:\n",
    "- Event Analysis: solve business question related to hypothesis testing.\n",
    "- Competition Analysis: Performing descriptive analysis using various data analysis and visualization techniques.\n",
    "- Writing interpretation for each analysis individually."
   ]
  },
  {
   "cell_type": "code",
   "execution_count": 1,
   "id": "377d8e68-747c-4c53-8b79-ec16b37f4926",
   "metadata": {},
   "outputs": [
    {
     "data": {
      "text/html": [
       "<div>\n",
       "<style scoped>\n",
       "    .dataframe tbody tr th:only-of-type {\n",
       "        vertical-align: middle;\n",
       "    }\n",
       "\n",
       "    .dataframe tbody tr th {\n",
       "        vertical-align: top;\n",
       "    }\n",
       "\n",
       "    .dataframe thead th {\n",
       "        text-align: right;\n",
       "    }\n",
       "</style>\n",
       "<table border=\"1\" class=\"dataframe\">\n",
       "  <thead>\n",
       "    <tr style=\"text-align: right;\">\n",
       "      <th></th>\n",
       "      <th>appearance_id</th>\n",
       "      <th>game_id</th>\n",
       "      <th>player_id</th>\n",
       "      <th>date_x</th>\n",
       "      <th>player_name_x</th>\n",
       "      <th>competition_id_x</th>\n",
       "      <th>yellow_cards</th>\n",
       "      <th>red_cards</th>\n",
       "      <th>goals</th>\n",
       "      <th>assists</th>\n",
       "      <th>...</th>\n",
       "      <th>country_of_birth</th>\n",
       "      <th>date_of_birth</th>\n",
       "      <th>sub_position</th>\n",
       "      <th>position_y</th>\n",
       "      <th>foot</th>\n",
       "      <th>height_in_cm</th>\n",
       "      <th>market_value_in_eur</th>\n",
       "      <th>highest_market_value_in_eur</th>\n",
       "      <th>contract_expiration_date</th>\n",
       "      <th>agent_name</th>\n",
       "    </tr>\n",
       "  </thead>\n",
       "  <tbody>\n",
       "    <tr>\n",
       "      <th>0</th>\n",
       "      <td>2222536_1321</td>\n",
       "      <td>2222536.0</td>\n",
       "      <td>1321</td>\n",
       "      <td>2012-08-26 00:00:00</td>\n",
       "      <td>Jermaine Jones</td>\n",
       "      <td>L1</td>\n",
       "      <td>1.0</td>\n",
       "      <td>0.0</td>\n",
       "      <td>0.0</td>\n",
       "      <td>1.0</td>\n",
       "      <td>...</td>\n",
       "      <td>Germany</td>\n",
       "      <td>1981-11-03</td>\n",
       "      <td>Defensive Midfield</td>\n",
       "      <td>Midfield</td>\n",
       "      <td>both</td>\n",
       "      <td>184.0</td>\n",
       "      <td>1000000.0</td>\n",
       "      <td>8000000.0</td>\n",
       "      <td>2024-12-31</td>\n",
       "      <td>Wasserman</td>\n",
       "    </tr>\n",
       "    <tr>\n",
       "      <th>1</th>\n",
       "      <td>2231391_1321</td>\n",
       "      <td>2231391.0</td>\n",
       "      <td>1321</td>\n",
       "      <td>2012-09-01 00:00:00</td>\n",
       "      <td>Jermaine Jones</td>\n",
       "      <td>L1</td>\n",
       "      <td>0.0</td>\n",
       "      <td>0.0</td>\n",
       "      <td>1.0</td>\n",
       "      <td>0.0</td>\n",
       "      <td>...</td>\n",
       "      <td>Germany</td>\n",
       "      <td>1981-11-03</td>\n",
       "      <td>Defensive Midfield</td>\n",
       "      <td>Midfield</td>\n",
       "      <td>both</td>\n",
       "      <td>184.0</td>\n",
       "      <td>1000000.0</td>\n",
       "      <td>8000000.0</td>\n",
       "      <td>2024-12-31</td>\n",
       "      <td>Wasserman</td>\n",
       "    </tr>\n",
       "    <tr>\n",
       "      <th>2</th>\n",
       "      <td>2231391_1321</td>\n",
       "      <td>2231391.0</td>\n",
       "      <td>1321</td>\n",
       "      <td>2012-09-01 00:00:00</td>\n",
       "      <td>Jermaine Jones</td>\n",
       "      <td>L1</td>\n",
       "      <td>0.0</td>\n",
       "      <td>0.0</td>\n",
       "      <td>1.0</td>\n",
       "      <td>0.0</td>\n",
       "      <td>...</td>\n",
       "      <td>Germany</td>\n",
       "      <td>1981-11-03</td>\n",
       "      <td>Defensive Midfield</td>\n",
       "      <td>Midfield</td>\n",
       "      <td>both</td>\n",
       "      <td>184.0</td>\n",
       "      <td>1000000.0</td>\n",
       "      <td>8000000.0</td>\n",
       "      <td>2024-12-31</td>\n",
       "      <td>Wasserman</td>\n",
       "    </tr>\n",
       "    <tr>\n",
       "      <th>3</th>\n",
       "      <td>2231397_1321</td>\n",
       "      <td>2231397.0</td>\n",
       "      <td>1321</td>\n",
       "      <td>2012-09-28 00:00:00</td>\n",
       "      <td>Jermaine Jones</td>\n",
       "      <td>L1</td>\n",
       "      <td>1.0</td>\n",
       "      <td>0.0</td>\n",
       "      <td>0.0</td>\n",
       "      <td>0.0</td>\n",
       "      <td>...</td>\n",
       "      <td>Germany</td>\n",
       "      <td>1981-11-03</td>\n",
       "      <td>Defensive Midfield</td>\n",
       "      <td>Midfield</td>\n",
       "      <td>both</td>\n",
       "      <td>184.0</td>\n",
       "      <td>1000000.0</td>\n",
       "      <td>8000000.0</td>\n",
       "      <td>2024-12-31</td>\n",
       "      <td>Wasserman</td>\n",
       "    </tr>\n",
       "    <tr>\n",
       "      <th>4</th>\n",
       "      <td>2231397_1321</td>\n",
       "      <td>2231397.0</td>\n",
       "      <td>1321</td>\n",
       "      <td>2012-09-28 00:00:00</td>\n",
       "      <td>Jermaine Jones</td>\n",
       "      <td>L1</td>\n",
       "      <td>1.0</td>\n",
       "      <td>0.0</td>\n",
       "      <td>0.0</td>\n",
       "      <td>0.0</td>\n",
       "      <td>...</td>\n",
       "      <td>Germany</td>\n",
       "      <td>1981-11-03</td>\n",
       "      <td>Defensive Midfield</td>\n",
       "      <td>Midfield</td>\n",
       "      <td>both</td>\n",
       "      <td>184.0</td>\n",
       "      <td>1000000.0</td>\n",
       "      <td>8000000.0</td>\n",
       "      <td>2024-12-31</td>\n",
       "      <td>Wasserman</td>\n",
       "    </tr>\n",
       "  </tbody>\n",
       "</table>\n",
       "<p>5 rows × 55 columns</p>\n",
       "</div>"
      ],
      "text/plain": [
       "  appearance_id    game_id  player_id               date_x   player_name_x  \\\n",
       "0  2222536_1321  2222536.0       1321  2012-08-26 00:00:00  Jermaine Jones   \n",
       "1  2231391_1321  2231391.0       1321  2012-09-01 00:00:00  Jermaine Jones   \n",
       "2  2231391_1321  2231391.0       1321  2012-09-01 00:00:00  Jermaine Jones   \n",
       "3  2231397_1321  2231397.0       1321  2012-09-28 00:00:00  Jermaine Jones   \n",
       "4  2231397_1321  2231397.0       1321  2012-09-28 00:00:00  Jermaine Jones   \n",
       "\n",
       "  competition_id_x  yellow_cards  red_cards  goals  assists  ...  \\\n",
       "0               L1           1.0        0.0    0.0      1.0  ...   \n",
       "1               L1           0.0        0.0    1.0      0.0  ...   \n",
       "2               L1           0.0        0.0    1.0      0.0  ...   \n",
       "3               L1           1.0        0.0    0.0      0.0  ...   \n",
       "4               L1           1.0        0.0    0.0      0.0  ...   \n",
       "\n",
       "   country_of_birth date_of_birth        sub_position  position_y  foot  \\\n",
       "0           Germany    1981-11-03  Defensive Midfield    Midfield  both   \n",
       "1           Germany    1981-11-03  Defensive Midfield    Midfield  both   \n",
       "2           Germany    1981-11-03  Defensive Midfield    Midfield  both   \n",
       "3           Germany    1981-11-03  Defensive Midfield    Midfield  both   \n",
       "4           Germany    1981-11-03  Defensive Midfield    Midfield  both   \n",
       "\n",
       "  height_in_cm  market_value_in_eur  highest_market_value_in_eur  \\\n",
       "0        184.0            1000000.0                    8000000.0   \n",
       "1        184.0            1000000.0                    8000000.0   \n",
       "2        184.0            1000000.0                    8000000.0   \n",
       "3        184.0            1000000.0                    8000000.0   \n",
       "4        184.0            1000000.0                    8000000.0   \n",
       "\n",
       "  contract_expiration_date agent_name  \n",
       "0               2024-12-31  Wasserman  \n",
       "1               2024-12-31  Wasserman  \n",
       "2               2024-12-31  Wasserman  \n",
       "3               2024-12-31  Wasserman  \n",
       "4               2024-12-31  Wasserman  \n",
       "\n",
       "[5 rows x 55 columns]"
      ]
     },
     "execution_count": 1,
     "metadata": {},
     "output_type": "execute_result"
    }
   ],
   "source": [
    "import pandas as pd\n",
    "import warnings\n",
    "warnings.filterwarnings('ignore')\n",
    "\n",
    "data = pd.read_csv('football_data.csv')\n",
    "data.head()"
   ]
  },
  {
   "cell_type": "markdown",
   "id": "c8c3b8b3-da98-4614-ac65-c4271266a5ad",
   "metadata": {},
   "source": [
    "# A) Event Analysis\n",
    "## Is there a significant difference in the average number of goals scored by home and away teams in matches?"
   ]
  },
  {
   "cell_type": "raw",
   "id": "bbaecbdf-e131-4d66-9303-19b60895029b",
   "metadata": {},
   "source": [
    "Null Hypothesis (H0): \n",
    "There is no significant difference in goals scored by home and away teams.   \n",
    "\n",
    "Alternative Hypothesis (H1): \n",
    "There is a significant difference in goals scored by home and away teams."
   ]
  },
  {
   "cell_type": "code",
   "execution_count": 17,
   "id": "f001d077-a1da-49f8-8410-42e3f92b5ea0",
   "metadata": {},
   "outputs": [],
   "source": [
    "from scipy.stats import ttest_ind\n",
    "\n",
    "home_goals = data['home_club_goals']\n",
    "away_goals = data['away_club_goals']"
   ]
  },
  {
   "cell_type": "code",
   "execution_count": 19,
   "id": "fcd0bfc1-8298-43b1-8385-80f71c9e9f38",
   "metadata": {},
   "outputs": [
    {
     "name": "stdout",
     "output_type": "stream",
     "text": [
      "T-Statistic: 10.17\n",
      "P-Value: 0.0000\n"
     ]
    }
   ],
   "source": [
    "# Perform independent T-test\n",
    "t_stat, p_value = ttest_ind(home_goals, away_goals, nan_policy='omit')\n",
    "\n",
    "# Results\n",
    "print(f\"T-Statistic: {t_stat:.2f}\")\n",
    "print(f\"P-Value: {p_value:.4f}\")"
   ]
  },
  {
   "cell_type": "code",
   "execution_count": 21,
   "id": "41bdd1e0-16bc-430d-b36b-2d920e86afe8",
   "metadata": {},
   "outputs": [
    {
     "name": "stdout",
     "output_type": "stream",
     "text": [
      "Reject the null hypothesis: There is a significant difference in goals scored by home and away teams.\n"
     ]
    }
   ],
   "source": [
    "# Interpretation\n",
    "if p_value < 0.05:\n",
    "    print(\"Reject the null hypothesis: There is a significant difference in goals scored by home and away teams.\")\n",
    "else:\n",
    "    print(\"Fail to reject the null hypothesis: No significant difference in goals scored by home and away teams.\")"
   ]
  },
  {
   "cell_type": "markdown",
   "id": "169e3611-ad70-4612-98c2-340b1d592ad2",
   "metadata": {},
   "source": [
    "### Interpretation:\n",
    "- If P < 0.05: The difference in average goals scored by home and away teams is statistically significant."
   ]
  },
  {
   "cell_type": "markdown",
   "id": "8e95cfc5-34bd-4194-a7ce-6bf648f643c9",
   "metadata": {},
   "source": [
    "# B) Competition Analysis\n",
    "## How do the average goals scored in home and away matches vary across different seasons?"
   ]
  },
  {
   "cell_type": "code",
   "execution_count": 2,
   "id": "955d1aa4-b581-40b4-97df-20742ca66732",
   "metadata": {},
   "outputs": [],
   "source": [
    "import seaborn as sns\n",
    "import matplotlib.pyplot as plt\n",
    "\n",
    "# Group data by season and calculate mean goals\n",
    "season_goals = data.groupby('season').agg({'home_club_goals': 'mean','away_club_goals': 'mean'}).reset_index()"
   ]
  },
  {
   "cell_type": "code",
   "execution_count": 3,
   "id": "3f15c3a6-7f22-4567-8b44-8a76cd05c1ab",
   "metadata": {},
   "outputs": [
    {
     "data": {
      "image/png": "[encoded data removed]",
      "text/plain": [
       "<Figure size 1000x400 with 1 Axes>"
      ]
     },
     "metadata": {},
     "output_type": "display_data"
    }
   ],
   "source": [
    "plt.figure(figsize=(10, 4))\n",
    "sns.lineplot(data=season_goals, x='season', y='home_club_goals', marker='o', label='Home Goals')\n",
    "sns.lineplot(data=season_goals, x='season', y='away_club_goals', marker='o', label='Away Goals')\n",
    "plt.title(\"Average Goals Scored in Home and Away Matches Across Seasons\")\n",
    "plt.xlabel(\"Season\")\n",
    "plt.ylabel(\"Average Goals\")\n",
    "plt.legend()\n",
    "plt.show()"
   ]
  },
  {
   "cell_type": "markdown",
   "id": "4b186a4f-d0a2-4108-9010-6fae751db47a",
   "metadata": {},
   "source": [
    "### Interpretation:\n",
    "- The plot shows trends in goals scored at home and away for each season, helping identify patterns or anomalies.\n",
    "- Teams might perform significantly better or worse in certain seasons, which could be linked to player changes, managerial strategies, or other external factors"
   ]
  }
 ],
 "metadata": {
  "kernelspec": {
   "display_name": "Python 3 (ipykernel)",
   "language": "python",
   "name": "python3"
  },
  "language_info": {
   "codemirror_mode": {
    "name": "ipython",
    "version": 3
   },
   "file_extension": ".py",
   "mimetype": "text/x-python",
   "name": "python",
   "nbconvert_exporter": "python",
   "pygments_lexer": "ipython3",
   "version": "3.12.4"
  }
 },
 "nbformat": 4,
 "nbformat_minor": 5
}
